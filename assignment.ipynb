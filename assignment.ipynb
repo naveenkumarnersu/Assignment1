{
 "cells": [
  {
   "cell_type": "code",
   "execution_count": null,
   "metadata": {},
   "outputs": [],
   "source": [
    "'''1.Given a string, write a Python program to extract the last three characters from the string and print them'''\n",
    "\n",
    "string = \"python\"\n",
    "\n",
    "print(\"Last 3 charecters are \", string[-3:])"
   ]
  },
  {
   "cell_type": "code",
   "execution_count": null,
   "metadata": {},
   "outputs": [],
   "source": [
    "'''2.You are given a string. Write a Python program to replace all occurrences of the character 'l' (lowercase L) \n",
    "   with 'L' (uppercase L) and print the modified string.'''\n",
    "   \n",
    "str=(\"lilliput\")\n",
    "\n",
    "print(\"Modified string is \", str.replace(\"l\",\"L\"))"
   ]
  },
  {
   "cell_type": "code",
   "execution_count": null,
   "metadata": {},
   "outputs": [],
   "source": [
    "'''3.Write a Python program to check if a given integer is even. If the integer is even, print True; otherwise, print False.'''\n",
    "\n",
    "str=int(input(\"Enter your number : \"))\n",
    "\n",
    "if str%2==0:\n",
    "    print(\"Number \",str, \"is True\")\n",
    "\n",
    "else:\n",
    "    print(\"Number \",str, \"is False\")\n",
    "    "
   ]
  },
  {
   "cell_type": "code",
   "execution_count": null,
   "metadata": {},
   "outputs": [],
   "source": [
    "'''4.Write a Python program to check if a given integer is divisible by both 3 and 5. If the integer is\n",
    "     divisible by both, print True; otherwise, print False.'''\n",
    "     \n",
    "str=int(input(\"Enter any intezer : \"))\n",
    "\n",
    "if str%3==0 and str%5==0:\n",
    "    print(\"True\")   \n",
    "    \n",
    "else:\n",
    "    print(\"False\")    "
   ]
  },
  {
   "cell_type": "code",
   "execution_count": null,
   "metadata": {},
   "outputs": [],
   "source": [
    "'''5.Given a string containing multiple occurrences of the word 'banana', write a Python program to replace only\n",
    "     the first occurrence of 'banana' with 'orange' and print the modified string.'''\n",
    "     \n",
    "str=\"Banana Banana Banana\" \n",
    "\n",
    "print(str.replace(\"Banana\",\"Orange\",1))\n",
    "        \n"
   ]
  },
  {
   "cell_type": "code",
   "execution_count": null,
   "metadata": {},
   "outputs": [],
   "source": [
    "'''6.Given two tuples representing coordinates (x, y) of two points, write a Python program to calculate \n",
    "   the Euclidean distance between them.'''\n",
    "   \n",
    "import math\n",
    "\n",
    "a = (7, 10)\n",
    "b = (12, 18)\n",
    "\n",
    "distance = (math.sqrt((b[0] - a[0])*2 + (b[1] - a[1])*2))\n",
    "\n",
    "print(\"Euclidean distance between two points :\",distance)"
   ]
  },
  {
   "cell_type": "code",
   "execution_count": null,
   "metadata": {},
   "outputs": [],
   "source": [
    "'''7.Write a Python program that takes two sets as input and returns a new set containing only the \n",
    "     elements that are common to both sets.'''\n",
    "     \n",
    "setA = {\"N\",\"A\",\"V\",\"E\",\"E\",\"N\"}    \n",
    "\n",
    "setB = {\"N\",\"A\",\"N\",\"I\"} \n",
    "\n",
    "setNew = (setA.intersection(setB))\n",
    "\n",
    "print(\"Set containing common elements : \",setNew)"
   ]
  },
  {
   "cell_type": "code",
   "execution_count": null,
   "metadata": {},
   "outputs": [],
   "source": []
  },
  {
   "cell_type": "code",
   "execution_count": null,
   "metadata": {},
   "outputs": [],
   "source": []
  },
  {
   "cell_type": "code",
   "execution_count": null,
   "metadata": {},
   "outputs": [],
   "source": []
  },
  {
   "cell_type": "code",
   "execution_count": null,
   "metadata": {},
   "outputs": [],
   "source": []
  },
  {
   "cell_type": "code",
   "execution_count": null,
   "metadata": {},
   "outputs": [],
   "source": []
  },
  {
   "cell_type": "code",
   "execution_count": null,
   "metadata": {},
   "outputs": [],
   "source": []
  },
  {
   "cell_type": "code",
   "execution_count": null,
   "metadata": {},
   "outputs": [],
   "source": []
  },
  {
   "cell_type": "code",
   "execution_count": null,
   "metadata": {},
   "outputs": [],
   "source": []
  }
 ],
 "metadata": {
  "kernelspec": {
   "display_name": "Python 3",
   "language": "python",
   "name": "python3"
  },
  "language_info": {
   "name": "python",
   "version": "3.11.9"
  }
 },
 "nbformat": 4,
 "nbformat_minor": 2
}
